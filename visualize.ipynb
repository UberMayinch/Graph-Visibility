{
 "cells": [
  {
   "cell_type": "code",
   "execution_count": null,
   "metadata": {},
   "outputs": [],
   "source": [
    "import pandas as pd\n",
    "import matplotlib.pyplot as plt\n",
    "import subprocess\n",
    "import numpy as np\n",
    "import random\n",
    "from collections import defaultdict\n",
    "import os"
   ]
  },
  {
   "cell_type": "code",
   "execution_count": null,
   "metadata": {},
   "outputs": [],
   "source": [
    "compile_cmd = \"make all\"\n",
    "subprocess.run(compile_cmd, shell=True, check=True)\n",
    "dir_cmd = \"make dirs\"\n",
    "subprocess.run(dir_cmd, shell=True, check=True)"
   ]
  },
  {
   "cell_type": "code",
   "execution_count": null,
   "metadata": {},
   "outputs": [],
   "source": [
    "np.random.seed(42)\n",
    "random.seed(42)\n",
    "stabilizing_time = 5000\n",
    "window_size = 1\n",
    "precision_degree = 6\n",
    "num_params = 101"
   ]
  },
  {
   "cell_type": "markdown",
   "metadata": {},
   "source": [
    "## Helper Functions\n",
    "---"
   ]
  },
  {
   "cell_type": "code",
   "execution_count": null,
   "metadata": {},
   "outputs": [],
   "source": [
    "def AppendLocalOptima(csv_path, stabilizing_time, window_size, col_string):\n",
    "    df = pd.read_csv(csv_path)\n",
    "    df = df.iloc[stabilizing_time:]\n",
    "\n",
    "    rolling_max = df[col_string].rolling(2 * window_size+ 1, center=True).max()\n",
    "    rolling_min = df[col_string].rolling(2 * window_size+ 1, center=True).min()\n",
    "\n",
    "    df['is_local_opt'] = (df[col_string] == rolling_max) | (df[col_string] == rolling_min)\n",
    "    return df\n",
    "\n"
   ]
  },
  {
   "cell_type": "code",
   "execution_count": null,
   "metadata": {},
   "outputs": [],
   "source": [
    "\n",
    "def PlotExtrema(df, a, col_string1, col_string2, model, initial_conds=\"./\"): \n",
    "    plt.figure(figsize=(12, 6))\n",
    "\n",
    "    mean_u = df[col_string1].mean()\n",
    "    std_u = df[col_string1].std()\n",
    "\n",
    "    plt.subplot(2, 1, 1)\n",
    "    plt.plot(df['time'], df[col_string1], label=col_string1+'(t)')\n",
    "    plt.title(f'{col_string1} trajectory over time, A = {a}')\n",
    "    plt.xlabel('Time')\n",
    "    plt.ylabel(col_string1)\n",
    "\n",
    "    # Plot local optima\n",
    "    plt.scatter(\n",
    "        df.loc[df['is_local_opt'], 'time'],\n",
    "        df.loc[df['is_local_opt'], col_string1],\n",
    "        color='red', marker='o', label='Local Optima', zorder=3\n",
    "    )\n",
    "\n",
    "    # Plot mean and ±6 std lines\n",
    "    plt.axhline(mean_u, color='green', linestyle='--', label='Mean')\n",
    "    plt.axhline(mean_u + 6 * std_u, color='orange', linestyle='--', label='Mean ± 6σ')\n",
    "    plt.axhline(mean_u - 6 * std_u, color='orange', linestyle='--')\n",
    "\n",
    "    plt.legend()\n",
    "    plt.grid(True)\n",
    "\n",
    "    plt.subplot(2, 1, 2)\n",
    "    plt.plot(df['time'], df[col_string2], label = col_string2 + '(t)')\n",
    "    plt.title(f'{col_string2} trajectory over time, A = {a}')\n",
    "    plt.xlabel('Time')\n",
    "    plt.ylabel(col_string2)\n",
    "    plt.grid(True)\n",
    "    plt.tight_layout()\n",
    "    plt.savefig(f'plots/{model}/{initial_conds}/extrema_{a}.png')\n",
    "    plt.close()\n",
    "    return\n"
   ]
  },
  {
   "cell_type": "code",
   "execution_count": null,
   "metadata": {},
   "outputs": [],
   "source": [
    "\n",
    "def process_timeseries(A, timeseries_dataframes, col_string1, col_string2, model, initial_conds=\"./\", mode='all', n=None, subset=None):\n",
    "\n",
    "    \"\"\"\n",
    "    Parameters:\n",
    "    - A: list of identifiers (same length as timeseries_dataframes)\n",
    "    - timeseries_dataframes: list of DataFrames corresponding to A\n",
    "    - mode: 'all', 'random', or 'subset'\n",
    "    - n: number of samples to select (used if mode == 'random')\n",
    "    - subset: list of values to use from A (used if mode == 'subset')\n",
    "    \"\"\"\n",
    "\n",
    "    # Convert to list of tuples for easier handling\n",
    "    data_pairs = list(zip(A, timeseries_dataframes))\n",
    "\n",
    "    if mode == 'all':\n",
    "        selected = data_pairs\n",
    "\n",
    "    elif mode == 'random':\n",
    "        if n is None:\n",
    "            raise ValueError(\"You must specify 'n' when using mode='random'\")\n",
    "        if n > len(A):\n",
    "            raise ValueError(f\"n={n} is greater than number of available elements={len(A)}\")\n",
    "        selected = random.sample(data_pairs, n)\n",
    "\n",
    "    elif mode == 'subset':\n",
    "        if subset is None:\n",
    "            raise ValueError(\"You must provide a subset list when using mode='subset'\")\n",
    "        # Keep only those entries where a ∈ subset\n",
    "        selected = [pair for pair in data_pairs if pair[0] in subset]\n",
    "\n",
    "    else:\n",
    "        raise ValueError(\"mode must be one of: 'all', 'random', or 'subset'\")\n",
    "\n",
    "    for a, df in selected:\n",
    "        PlotExtrema(df, a, col_string1, col_string2, model, initial_conds=initial_conds)\n",
    "\n"
   ]
  },
  {
   "cell_type": "code",
   "execution_count": null,
   "metadata": {},
   "outputs": [],
   "source": [
    "\n",
    "def bifurcationdiagram(timeseries_dataframes, col=\"u\", model=\"fhn\", initial_conds=\"./\"):\n",
    "    all_peak_data = []\n",
    "    for a, df in timeseries_dataframes.items():\n",
    "        # Extract local optima for this 'a'\n",
    "        peak_values = df[col][df[\"is_local_opt\"]]\n",
    "        for val in peak_values:\n",
    "            all_peak_data.append({'A': a, 'u_peak': val})\n",
    "\n",
    "    # Convert to DataFrame\n",
    "    peak_df = pd.DataFrame(all_peak_data)\n",
    "\n",
    "    # Plot\n",
    "    plt.figure(figsize=(8, 6))\n",
    "    for a in sorted(peak_df['A'].unique()):\n",
    "        peaks = peak_df[peak_df['A'] == a]['u_peak']\n",
    "        x_vals = [a] * len(peaks)\n",
    "        plt.scatter(x_vals, peaks, label=f\"A = {a}\", alpha=0.2)\n",
    "\n",
    "    plt.xlabel(\"Parameter value\")\n",
    "    plt.ylabel(\"Local optima of a\")\n",
    "    plt.title(\"Bifurcation Diagram for Timeseries\")\n",
    "    plt.grid(True)\n",
    "    plt.savefig(f'plots/{model}/{initial_conds}/bifurcation.png')\n",
    "\n",
    "    return "
   ]
  },
  {
   "cell_type": "code",
   "execution_count": null,
   "metadata": {},
   "outputs": [],
   "source": [
    "\n",
    "def plotGraphMetrics(x, y, model='linard'):\n",
    "    for x0, y0 in zip(x, y):\n",
    "        subprocess.run(f\"./swap_uv.sh data/{model}/{x0}_{y0}\", shell=True, check=True)\n",
    "        command = f\"./graph_characteristics data/{model}/{x0}_{y0}/\"\n",
    "        subprocess.run(command, shell=True, check=True)\n",
    "        \n",
    "        # Read the generated graph metrics file\n",
    "        graph_metrics = pd.read_csv(f'data/{model}/{x0}_{y0}/graph_metrics.csv')\n",
    "\n",
    "        # Sort by parameter column\n",
    "        graph_metrics = graph_metrics.sort_values('parameter')\n",
    "\n",
    "        # Convert parameter column to numeric for proper plotting\n",
    "        graph_metrics['parameter'] = pd.to_numeric(graph_metrics['parameter'])\n",
    "\n",
    "        # Create line plots\n",
    "        plt.figure(figsize=(12, 5))\n",
    "\n",
    "        plt.subplot(1, 2, 1)\n",
    "        plt.plot(graph_metrics['parameter'], graph_metrics['max_degree'], marker='o', markersize=3)\n",
    "        plt.xlabel('Parameter')\n",
    "        plt.ylabel('Max Degree')\n",
    "        plt.title(f'Parameter vs Max Degree (x0={x0:.6f}, y0={y0:.6f})')\n",
    "        plt.grid(True)\n",
    "\n",
    "        plt.subplot(1, 2, 2)\n",
    "        plt.plot(graph_metrics['parameter'], graph_metrics['avg_degree'], marker='o', markersize=3)\n",
    "        plt.xlabel('Parameter')\n",
    "        plt.ylabel('Average Degree')\n",
    "        plt.title(f'Parameter vs Average Degree (x0={x0:.6f}, y0={y0:.6f})')\n",
    "        plt.grid(True)\n",
    "\n",
    "        plt.tight_layout()\n",
    "        plt.savefig(f'plots/{model}/{x0}_{y0}/graph_metrics.png')\n",
    "\n",
    "        subprocess.run(f\"./swap_uv.sh data/{model}/{x0}_{y0}\", shell=True, check=True)"
   ]
  },
  {
   "cell_type": "markdown",
   "metadata": {},
   "source": [
    "# FHN Model\n",
    "---"
   ]
  },
  {
   "cell_type": "code",
   "execution_count": null,
   "metadata": {},
   "outputs": [],
   "source": [
    "u = np.random.random(size=10)*0.001 + -0.2\n",
    "v = np.random.random(size = 10)*0.0001 + -0.002\n",
    "u = np.round(u, precision_degree)\n",
    "v = np.round(v, precision_degree)\n",
    "print(f\"u values: {u}\")\n",
    "print(f\"v values: {v}\")"
   ]
  },
  {
   "cell_type": "code",
   "execution_count": null,
   "metadata": {},
   "outputs": [],
   "source": [
    "A = np.round(np.linspace(0.62, 0.63, num_params), precision_degree) \n",
    " \n",
    "\n",
    "print(A)\n",
    "\n",
    "csv_paths_fhn = defaultdict(list)\n",
    "    \n",
    "for u0, v0 in zip(u, v):\n",
    "    csv_paths_fhn[(u0, v0)] = {\n",
    "        a: f\"data/fhn/{u0}_{v0}/output_{a}.csv\"\n",
    "        for a in A\n",
    "    }\n",
    "\n",
    "print(csv_paths_fhn.items())\n"
   ]
  },
  {
   "cell_type": "code",
   "execution_count": null,
   "metadata": {},
   "outputs": [],
   "source": [
    "for u0, v0 in zip(u, v):\n",
    "    make_initial_cond_dir = f\"mkdir -p -- data/fhn/{u0}_{v0}\"\n",
    "    print(make_initial_cond_dir)\n",
    "    subprocess.run(make_initial_cond_dir, shell=True)\n",
    "    for a in A:\n",
    "        subprocess.run(f\"./fhn {a} {u0} {v0}\", shell=True, check=True)\n",
    "    "
   ]
  },
  {
   "cell_type": "code",
   "execution_count": null,
   "metadata": {},
   "outputs": [],
   "source": [
    "fhn_dataframes = defaultdict(dict)\n",
    "\n",
    "for (u0, v0), a_paths in csv_paths_fhn.items():\n",
    "    for a, path in a_paths.items():\n",
    "        fhn_dataframes[(u0, v0)][a] = AppendLocalOptima(\n",
    "            path, stabilizing_time, window_size, 'u'\n",
    "        )\n",
    "\n",
    "# print(fhn_dataframes.values())\n"
   ]
  },
  {
   "cell_type": "code",
   "execution_count": null,
   "metadata": {},
   "outputs": [],
   "source": [
    "\n",
    "for (u0, v0) in zip(u, v):\n",
    "    # Sort dataframes by A values (keys)\n",
    "    sorted_items = sorted(fhn_dataframes[(u0, v0)].items())\n",
    "    # print([(a, df) for a, df in sorted_items]) \n",
    "    dataframes_list = [df for a, df in sorted_items]\n",
    "    print(f\"Number of dataframes for u0={u0:.6f}, v0={v0:.6f}: {len(dataframes_list)}\")\n",
    "    \n",
    "    make_initial_cond_dir = f\"mkdir -p -- plots/fhn/{u0}_{v0}\"\n",
    "    print(make_initial_cond_dir)\n",
    "    subprocess.run(make_initial_cond_dir, shell=True)\n",
    "    process_timeseries(A, dataframes_list, 'u', 'v', 'fhn', mode='all', initial_conds=f\"./{u0}_{v0}\")\n"
   ]
  },
  {
   "cell_type": "code",
   "execution_count": null,
   "metadata": {},
   "outputs": [],
   "source": [
    "for (u0, v0) in zip(u, v):\n",
    "    print(f\"Initial conditions: u0 = {u0}, v0 = {v0}\")\n",
    "    bifurcationdiagram(fhn_dataframes[(u0, v0)], initial_conds=f\"./{u0}_{v0}\", model=\"fhn\")"
   ]
  },
  {
   "cell_type": "code",
   "execution_count": null,
   "metadata": {},
   "outputs": [],
   "source": [
    "plotGraphMetrics(u, v, \"fhn\")"
   ]
  },
  {
   "cell_type": "markdown",
   "metadata": {},
   "source": [
    "# Linard Model\n",
    "---"
   ]
  },
  {
   "cell_type": "code",
   "execution_count": null,
   "metadata": {},
   "outputs": [],
   "source": [
    "x = np.random.random(size=10) - 0.5\n",
    "y = np.random.random(size = 10)\n",
    "x = np.round(x, precision_degree)\n",
    "y = np.round(y, precision_degree)"
   ]
  },
  {
   "cell_type": "code",
   "execution_count": null,
   "metadata": {},
   "outputs": [],
   "source": [
    "\n",
    "omega_vals = np.round(np.linspace(0.64, 0.74, num_params), precision_degree)\n",
    "\n",
    "for x0, y0 in zip(x, y):\n",
    "    make_initial_cond_dir = f\"mkdir -p -- data/linard/{x0}_{y0}\"\n",
    "    print(make_initial_cond_dir)\n",
    "    subprocess.run(make_initial_cond_dir, shell=True)\n",
    "    for omega in omega_vals:\n",
    "        subprocess.run(f\"./linard {omega} {x0} {y0}\", shell=True, check=True)\n",
    "\n",
    "csv_paths_linard = defaultdict(list)\n",
    "    \n",
    "for x0, y0 in zip(x, y):\n",
    "    csv_paths_linard[(x0, y0)] = {\n",
    "        omega: f\"data/linard/{x0}_{y0}/output_{omega}.csv\"\n",
    "        for omega in omega_vals\n",
    "    }\n",
    "\n",
    "print(csv_paths_fhn.items())"
   ]
  },
  {
   "cell_type": "code",
   "execution_count": null,
   "metadata": {},
   "outputs": [],
   "source": [
    "linard_dataframes = defaultdict(dict)\n",
    "\n",
    "for (x0, y0), omega_paths in csv_paths_linard.items():\n",
    "    for omega, path in omega_paths.items():\n",
    "        linard_dataframes[(x0, y0)][omega] = AppendLocalOptima(\n",
    "            path, stabilizing_time, window_size, 'x'\n",
    "        )"
   ]
  },
  {
   "cell_type": "code",
   "execution_count": null,
   "metadata": {},
   "outputs": [],
   "source": [
    "\n",
    "for (x0, y0) in zip(x, y):\n",
    "    # Sort dataframes by A values (keys)\n",
    "    sorted_items = sorted(linard_dataframes[(x0, y0)].items())\n",
    "    dataframes_list = [df for omega, df in sorted_items]\n",
    "    print(f\"Number of dataframes for x0={x0:.6f}, y0={y0:.6f}: {len(dataframes_list)}\")\n",
    "    \n",
    "    make_initial_cond_dir = f\"mkdir -p -- plots/linard/{x0}_{y0}\"\n",
    "    subprocess.run(make_initial_cond_dir, shell=True)\n",
    "    process_timeseries(A, dataframes_list, 'x', 'y', 'linard', mode='all', initial_conds=f\"./{x0}_{y0}\")"
   ]
  },
  {
   "cell_type": "code",
   "execution_count": null,
   "metadata": {},
   "outputs": [],
   "source": [
    "for (x0, y0) in zip(x, y):\n",
    "    print(f\"Initial conditions: x0 = {x0}, y0 = {y0}\")\n",
    "    bifurcationdiagram(fhn_dataframes[(u0, v0)], col = \"x\", initial_conds=f\"./{x0}_{y0}\", model=\"linard\")\n"
   ]
  },
  {
   "cell_type": "code",
   "execution_count": null,
   "metadata": {},
   "outputs": [],
   "source": [
    "\n",
    "plotGraphMetrics(x, y, \"linard\")"
   ]
  }
 ],
 "metadata": {
  "kernelspec": {
   "display_name": "Python 3",
   "language": "python",
   "name": "python3"
  },
  "language_info": {
   "codemirror_mode": {
    "name": "ipython",
    "version": 3
   },
   "file_extension": ".py",
   "mimetype": "text/x-python",
   "name": "python",
   "nbconvert_exporter": "python",
   "pygments_lexer": "ipython3",
   "version": "3.10.12"
  }
 },
 "nbformat": 4,
 "nbformat_minor": 2
}
